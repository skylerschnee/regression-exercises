{
 "cells": [
  {
   "cell_type": "markdown",
   "id": "e3c314f8",
   "metadata": {},
   "source": [
    "# Evaluating Regression Models"
   ]
  },
  {
   "cell_type": "markdown",
   "id": "49971bf2",
   "metadata": {},
   "source": [
    "<hr style=\"border:2px solid gray\">"
   ]
  },
  {
   "cell_type": "markdown",
   "id": "11d4e210",
   "metadata": {},
   "source": [
    "1. Load your zillow dataset.\n",
    "\n",
    "2. Fit a linear regression model (ordinary least squares) and compute yhat, predictions of taxvaluedollarcnt using only calculatedfinishedsqft.\n",
    "\n",
    "3. Plot the residuals for the linear regression model that you made.\n",
    "\n",
    "4. Calculate the sum of squared errors, explained sum of squares, total sum of squares, mean squared error, and root mean squared error for your model.\n",
    "\n",
    "5. Calculate the sum of squared errors, mean squared error, and root mean squared error for the baseline model (i.e. a model that always predicts the average taxvaluedollarcnt amount).\n",
    "\n",
    "6. Write python code that compares the sum of squared errors for your model against the sum of squared errors for the baseline model and outputs whether or not your model performs better than the baseline model.\n",
    "\n",
    "7. What is the amount of variance explained in your model?\n",
    "\n",
    "8. Is your model better than the baseline model?\n",
    "\n",
    "9. Create a file named evaluate.py that contains the following functions.\n",
    "    - plot_residuals(y, yhat): creates a residual plot\n",
    "    - regression_errors(y, yhat): returns the following values:\n",
    "        - sum of squared errors (SSE)\n",
    "        - explained sum of squares (ESS)\n",
    "        - total sum of squares (TSS)\n",
    "        - mean squared error (MSE)\n",
    "        - root mean squared error (RMSE)\n",
    "    - baseline_mean_errors(y): computes the SSE, MSE, and RMSE for the baseline model\n",
    "    - better_than_baseline(y, yhat): returns true if your model performs better than the baseline, otherwise false"
   ]
  },
  {
   "cell_type": "markdown",
   "id": "55308929",
   "metadata": {},
   "source": [
    "<hr style=\"border:1px solid black\">\n",
    "<hr style=\"border:1px solid black\">"
   ]
  },
  {
   "cell_type": "code",
   "execution_count": 1,
   "id": "6f346a3c",
   "metadata": {},
   "outputs": [],
   "source": [
    "#import ignore warninings\n",
    "import warnings\n",
    "warnings.filterwarnings(\"ignore\")\n",
    "\n",
    "#standard ds imports\n",
    "import pandas as pd\n",
    "import numpy as np\n",
    "from pydataset import data\n",
    "\n",
    "#visualization imports\n",
    "import matplotlib.pyplot as plt\n",
    "import seaborn as sns\n",
    "\n",
    "#math imports\n",
    "import math\n",
    "from sklearn.preprocessing import MinMaxScaler\n",
    "from sklearn.model_selection import train_test_split\n",
    "from scipy.stats import pearsonr, spearmanr\n",
    "from sklearn.linear_model import LinearRegression\n",
    "from sklearn.metrics import r2_score, mean_squared_error\n",
    "from sklearn.metrics import explained_variance_score\n",
    "\n",
    "#custom import\n",
    "import wrangle"
   ]
  },
  {
   "cell_type": "markdown",
   "id": "134636c6",
   "metadata": {},
   "source": [
    "### #1. Load your ```zillow``` dataset."
   ]
  },
  {
   "cell_type": "code",
   "execution_count": 2,
   "id": "b1ddc3b9",
   "metadata": {},
   "outputs": [
    {
     "name": "stdout",
     "output_type": "stream",
     "text": [
      "train: (1033073, 7)\n",
      "validate: (442746, 7)\n",
      "test: (368955, 7)\n"
     ]
    }
   ],
   "source": [
    "#use the wrangle module to call our custom function\n",
    "train, validate, test = wrangle.wrangle_zillow()"
   ]
  },
  {
   "cell_type": "code",
   "execution_count": 3,
   "id": "ac8e83c5",
   "metadata": {},
   "outputs": [
    {
     "data": {
      "text/html": [
       "<div>\n",
       "<style scoped>\n",
       "    .dataframe tbody tr th:only-of-type {\n",
       "        vertical-align: middle;\n",
       "    }\n",
       "\n",
       "    .dataframe tbody tr th {\n",
       "        vertical-align: top;\n",
       "    }\n",
       "\n",
       "    .dataframe thead th {\n",
       "        text-align: right;\n",
       "    }\n",
       "</style>\n",
       "<table border=\"1\" class=\"dataframe\">\n",
       "  <thead>\n",
       "    <tr style=\"text-align: right;\">\n",
       "      <th></th>\n",
       "      <th>bedrooms</th>\n",
       "      <th>bathrooms</th>\n",
       "      <th>sqft</th>\n",
       "      <th>home_value</th>\n",
       "      <th>year_built</th>\n",
       "      <th>sale_tax</th>\n",
       "      <th>fips</th>\n",
       "    </tr>\n",
       "  </thead>\n",
       "  <tbody>\n",
       "    <tr>\n",
       "      <th>98009</th>\n",
       "      <td>3.0</td>\n",
       "      <td>3.0</td>\n",
       "      <td>2630.0</td>\n",
       "      <td>467280.0</td>\n",
       "      <td>1959.0</td>\n",
       "      <td>5822.39</td>\n",
       "      <td>6037.0</td>\n",
       "    </tr>\n",
       "    <tr>\n",
       "      <th>1302707</th>\n",
       "      <td>4.0</td>\n",
       "      <td>2.0</td>\n",
       "      <td>1576.0</td>\n",
       "      <td>220764.0</td>\n",
       "      <td>1985.0</td>\n",
       "      <td>2801.04</td>\n",
       "      <td>6037.0</td>\n",
       "    </tr>\n",
       "    <tr>\n",
       "      <th>1400834</th>\n",
       "      <td>3.0</td>\n",
       "      <td>2.0</td>\n",
       "      <td>1517.0</td>\n",
       "      <td>86868.0</td>\n",
       "      <td>1951.0</td>\n",
       "      <td>1097.60</td>\n",
       "      <td>6037.0</td>\n",
       "    </tr>\n",
       "    <tr>\n",
       "      <th>1750528</th>\n",
       "      <td>3.0</td>\n",
       "      <td>2.0</td>\n",
       "      <td>1447.0</td>\n",
       "      <td>215803.0</td>\n",
       "      <td>1949.0</td>\n",
       "      <td>2992.81</td>\n",
       "      <td>6037.0</td>\n",
       "    </tr>\n",
       "    <tr>\n",
       "      <th>1573330</th>\n",
       "      <td>3.0</td>\n",
       "      <td>2.0</td>\n",
       "      <td>1919.0</td>\n",
       "      <td>301935.0</td>\n",
       "      <td>1959.0</td>\n",
       "      <td>3766.34</td>\n",
       "      <td>6037.0</td>\n",
       "    </tr>\n",
       "  </tbody>\n",
       "</table>\n",
       "</div>"
      ],
      "text/plain": [
       "         bedrooms  bathrooms    sqft  home_value  year_built  sale_tax    fips\n",
       "98009         3.0        3.0  2630.0    467280.0      1959.0   5822.39  6037.0\n",
       "1302707       4.0        2.0  1576.0    220764.0      1985.0   2801.04  6037.0\n",
       "1400834       3.0        2.0  1517.0     86868.0      1951.0   1097.60  6037.0\n",
       "1750528       3.0        2.0  1447.0    215803.0      1949.0   2992.81  6037.0\n",
       "1573330       3.0        2.0  1919.0    301935.0      1959.0   3766.34  6037.0"
      ]
     },
     "execution_count": 3,
     "metadata": {},
     "output_type": "execute_result"
    }
   ],
   "source": [
    "#take a look at the data\n",
    "train.head()"
   ]
  },
  {
   "cell_type": "code",
   "execution_count": 4,
   "id": "88e61468",
   "metadata": {},
   "outputs": [
    {
     "name": "stdout",
     "output_type": "stream",
     "text": [
      "<class 'pandas.core.frame.DataFrame'>\n",
      "Int64Index: 1033073 entries, 98009 to 1310779\n",
      "Data columns (total 7 columns):\n",
      " #   Column      Non-Null Count    Dtype  \n",
      "---  ------      --------------    -----  \n",
      " 0   bedrooms    1033073 non-null  float64\n",
      " 1   bathrooms   1033073 non-null  float64\n",
      " 2   sqft        1033073 non-null  float64\n",
      " 3   home_value  1033073 non-null  float64\n",
      " 4   year_built  1033073 non-null  float64\n",
      " 5   sale_tax    1033073 non-null  float64\n",
      " 6   fips        1033073 non-null  float64\n",
      "dtypes: float64(7)\n",
      "memory usage: 63.1 MB\n"
     ]
    }
   ],
   "source": [
    "#make sure we have the correct dtypes and no nulls\n",
    "train.info()"
   ]
  },
  {
   "cell_type": "markdown",
   "id": "5c4b6b59",
   "metadata": {},
   "source": [
    "<hr style=\"border:1px solid black\">"
   ]
  },
  {
   "cell_type": "markdown",
   "id": "a628608b",
   "metadata": {},
   "source": [
    "### #2. Fit a linear regression model (ordinary least squares) and compute yhat, predictions of ```taxvaluedollarcnt``` using only ```calculatedfinishedsqft```."
   ]
  },
  {
   "cell_type": "markdown",
   "id": "3f2b4f95",
   "metadata": {},
   "source": [
    "<div class=\"alert alert-block alert-info\">\n",
    "<b>Note:</b> \n",
    "    <br>\n",
    "\n",
    "These exercises only call for 2 features to be used. For this, we can drop the other columns that we will not be using.\n",
    "</div>"
   ]
  },
  {
   "cell_type": "code",
   "execution_count": 5,
   "id": "e82bef16",
   "metadata": {},
   "outputs": [],
   "source": [
    "#drop columns we don't need \n",
    "train = train.drop(columns=['bed_count','bath_count',\n",
    "                    'yearbuilt','taxamount', 'fips'])"
   ]
  },
  {
   "cell_type": "code",
   "execution_count": 6,
   "id": "26f63a9f",
   "metadata": {},
   "outputs": [
    {
     "data": {
      "text/html": [
       "<div>\n",
       "<style scoped>\n",
       "    .dataframe tbody tr th:only-of-type {\n",
       "        vertical-align: middle;\n",
       "    }\n",
       "\n",
       "    .dataframe tbody tr th {\n",
       "        vertical-align: top;\n",
       "    }\n",
       "\n",
       "    .dataframe thead th {\n",
       "        text-align: right;\n",
       "    }\n",
       "</style>\n",
       "<table border=\"1\" class=\"dataframe\">\n",
       "  <thead>\n",
       "    <tr style=\"text-align: right;\">\n",
       "      <th></th>\n",
       "      <th>sqft</th>\n",
       "      <th>home_value</th>\n",
       "    </tr>\n",
       "  </thead>\n",
       "  <tbody>\n",
       "    <tr>\n",
       "      <th>98009</th>\n",
       "      <td>2630.0</td>\n",
       "      <td>467280.0</td>\n",
       "    </tr>\n",
       "    <tr>\n",
       "      <th>1302707</th>\n",
       "      <td>1576.0</td>\n",
       "      <td>220764.0</td>\n",
       "    </tr>\n",
       "    <tr>\n",
       "      <th>1400834</th>\n",
       "      <td>1517.0</td>\n",
       "      <td>86868.0</td>\n",
       "    </tr>\n",
       "  </tbody>\n",
       "</table>\n",
       "</div>"
      ],
      "text/plain": [
       "           sqft  home_value\n",
       "98009    2630.0    467280.0\n",
       "1302707  1576.0    220764.0\n",
       "1400834  1517.0     86868.0"
      ]
     },
     "execution_count": 6,
     "metadata": {},
     "output_type": "execute_result"
    }
   ],
   "source": [
    "#make sure we only have the columns we need for the exercises\n",
    "train.head(3)"
   ]
  },
  {
   "cell_type": "markdown",
   "id": "95d3b715",
   "metadata": {},
   "source": [
    "<div class=\"alert alert-block alert-info\">\n",
    "<b>Note:</b> \n",
    "    <br>\n",
    "\n",
    "Prior to creating our model, we will want to scale our features.\n",
    "</div>"
   ]
  },
  {
   "cell_type": "code",
   "execution_count": 7,
   "id": "bb185f7d",
   "metadata": {},
   "outputs": [],
   "source": [
    "#use minmax on area only\n",
    "MinMax = MinMaxScaler()\n",
    "\n",
    "train['sqr_ft'] = MinMax.fit_transform(train[['sqr_ft']])"
   ]
  },
  {
   "cell_type": "code",
   "execution_count": 8,
   "id": "da632de2",
   "metadata": {},
   "outputs": [
    {
     "data": {
      "text/html": [
       "<div>\n",
       "<style scoped>\n",
       "    .dataframe tbody tr th:only-of-type {\n",
       "        vertical-align: middle;\n",
       "    }\n",
       "\n",
       "    .dataframe tbody tr th {\n",
       "        vertical-align: top;\n",
       "    }\n",
       "\n",
       "    .dataframe thead th {\n",
       "        text-align: right;\n",
       "    }\n",
       "</style>\n",
       "<table border=\"1\" class=\"dataframe\">\n",
       "  <thead>\n",
       "    <tr style=\"text-align: right;\">\n",
       "      <th></th>\n",
       "      <th>sqft</th>\n",
       "      <th>home_value</th>\n",
       "    </tr>\n",
       "  </thead>\n",
       "  <tbody>\n",
       "    <tr>\n",
       "      <th>98009</th>\n",
       "      <td>0.770968</td>\n",
       "      <td>467280.0</td>\n",
       "    </tr>\n",
       "    <tr>\n",
       "      <th>1302707</th>\n",
       "      <td>0.461877</td>\n",
       "      <td>220764.0</td>\n",
       "    </tr>\n",
       "    <tr>\n",
       "      <th>1400834</th>\n",
       "      <td>0.444575</td>\n",
       "      <td>86868.0</td>\n",
       "    </tr>\n",
       "  </tbody>\n",
       "</table>\n",
       "</div>"
      ],
      "text/plain": [
       "             sqft  home_value\n",
       "98009    0.770968    467280.0\n",
       "1302707  0.461877    220764.0\n",
       "1400834  0.444575     86868.0"
      ]
     },
     "execution_count": 8,
     "metadata": {},
     "output_type": "execute_result"
    }
   ],
   "source": [
    "#make sure we have scaled data\n",
    "train.head(3)"
   ]
  },
  {
   "cell_type": "code",
   "execution_count": 9,
   "id": "47d22bc5",
   "metadata": {},
   "outputs": [
    {
     "data": {
      "text/html": [
       "<div>\n",
       "<style scoped>\n",
       "    .dataframe tbody tr th:only-of-type {\n",
       "        vertical-align: middle;\n",
       "    }\n",
       "\n",
       "    .dataframe tbody tr th {\n",
       "        vertical-align: top;\n",
       "    }\n",
       "\n",
       "    .dataframe thead th {\n",
       "        text-align: right;\n",
       "    }\n",
       "</style>\n",
       "<table border=\"1\" class=\"dataframe\">\n",
       "  <thead>\n",
       "    <tr style=\"text-align: right;\">\n",
       "      <th></th>\n",
       "      <th>sqft</th>\n",
       "      <th>home_value</th>\n",
       "    </tr>\n",
       "  </thead>\n",
       "  <tbody>\n",
       "    <tr>\n",
       "      <th>count</th>\n",
       "      <td>1033073.0</td>\n",
       "      <td>1033073.0</td>\n",
       "    </tr>\n",
       "    <tr>\n",
       "      <th>min</th>\n",
       "      <td>0.0</td>\n",
       "      <td>23.0</td>\n",
       "    </tr>\n",
       "    <tr>\n",
       "      <th>max</th>\n",
       "      <td>1.0</td>\n",
       "      <td>949902.0</td>\n",
       "    </tr>\n",
       "  </tbody>\n",
       "</table>\n",
       "</div>"
      ],
      "text/plain": [
       "            sqft  home_value\n",
       "count  1033073.0   1033073.0\n",
       "min          0.0        23.0\n",
       "max          1.0    949902.0"
      ]
     },
     "execution_count": 9,
     "metadata": {},
     "output_type": "execute_result"
    }
   ],
   "source": [
    "#let's make sure our sqft is in between 0 and 1\n",
    "train.describe().loc[['count','min','max']]"
   ]
  },
  {
   "cell_type": "markdown",
   "id": "185c98af",
   "metadata": {},
   "source": [
    "<div class=\"alert alert-block alert-info\">\n",
    "<b>Note:</b> \n",
    "    <br>\n",
    "\n",
    "Be sure to isolate X and y <u>prior</u> to fitting your model.\n",
    "</div>"
   ]
  },
  {
   "cell_type": "code",
   "execution_count": 10,
   "id": "8791b709",
   "metadata": {},
   "outputs": [],
   "source": [
    "#isolate X and y train \n",
    "##using only the features that are requested for exercise #2\n",
    "X_train = train[['sqr_ft']]\n",
    "y_train = train[['tax_val_usd']]\n",
    "\n",
    "X_validate = validate[['sqr_ft']]\n",
    "y_validate = validate[['tax_val_usd']]\n",
    "\n",
    "X_test = test[['sqr_ft']]\n",
    "y_test = test[['tax_val_usd']]"
   ]
  },
  {
   "cell_type": "code",
   "execution_count": 11,
   "id": "aa07ff2e",
   "metadata": {},
   "outputs": [
    {
     "data": {
      "text/html": [
       "<div>\n",
       "<style scoped>\n",
       "    .dataframe tbody tr th:only-of-type {\n",
       "        vertical-align: middle;\n",
       "    }\n",
       "\n",
       "    .dataframe tbody tr th {\n",
       "        vertical-align: top;\n",
       "    }\n",
       "\n",
       "    .dataframe thead th {\n",
       "        text-align: right;\n",
       "    }\n",
       "</style>\n",
       "<table border=\"1\" class=\"dataframe\">\n",
       "  <thead>\n",
       "    <tr style=\"text-align: right;\">\n",
       "      <th></th>\n",
       "      <th>sqft</th>\n",
       "    </tr>\n",
       "  </thead>\n",
       "  <tbody>\n",
       "    <tr>\n",
       "      <th>98009</th>\n",
       "      <td>0.770968</td>\n",
       "    </tr>\n",
       "    <tr>\n",
       "      <th>1302707</th>\n",
       "      <td>0.461877</td>\n",
       "    </tr>\n",
       "    <tr>\n",
       "      <th>1400834</th>\n",
       "      <td>0.444575</td>\n",
       "    </tr>\n",
       "  </tbody>\n",
       "</table>\n",
       "</div>"
      ],
      "text/plain": [
       "             sqft\n",
       "98009    0.770968\n",
       "1302707  0.461877\n",
       "1400834  0.444575"
      ]
     },
     "execution_count": 11,
     "metadata": {},
     "output_type": "execute_result"
    }
   ],
   "source": [
    "#make sure we have what we need\n",
    "X_train.head(3)"
   ]
  },
  {
   "cell_type": "code",
   "execution_count": 12,
   "id": "89faa100",
   "metadata": {},
   "outputs": [
    {
     "data": {
      "text/html": [
       "<div>\n",
       "<style scoped>\n",
       "    .dataframe tbody tr th:only-of-type {\n",
       "        vertical-align: middle;\n",
       "    }\n",
       "\n",
       "    .dataframe tbody tr th {\n",
       "        vertical-align: top;\n",
       "    }\n",
       "\n",
       "    .dataframe thead th {\n",
       "        text-align: right;\n",
       "    }\n",
       "</style>\n",
       "<table border=\"1\" class=\"dataframe\">\n",
       "  <thead>\n",
       "    <tr style=\"text-align: right;\">\n",
       "      <th></th>\n",
       "      <th>home_value</th>\n",
       "    </tr>\n",
       "  </thead>\n",
       "  <tbody>\n",
       "    <tr>\n",
       "      <th>98009</th>\n",
       "      <td>467280.0</td>\n",
       "    </tr>\n",
       "    <tr>\n",
       "      <th>1302707</th>\n",
       "      <td>220764.0</td>\n",
       "    </tr>\n",
       "    <tr>\n",
       "      <th>1400834</th>\n",
       "      <td>86868.0</td>\n",
       "    </tr>\n",
       "  </tbody>\n",
       "</table>\n",
       "</div>"
      ],
      "text/plain": [
       "         home_value\n",
       "98009      467280.0\n",
       "1302707    220764.0\n",
       "1400834     86868.0"
      ]
     },
     "execution_count": 12,
     "metadata": {},
     "output_type": "execute_result"
    }
   ],
   "source": [
    "#make sure we have what we need\n",
    "y_train.head(3)"
   ]
  },
  {
   "cell_type": "code",
   "execution_count": 13,
   "id": "8e433920",
   "metadata": {},
   "outputs": [
    {
     "data": {
      "text/html": [
       "<style>#sk-container-id-1 {color: black;background-color: white;}#sk-container-id-1 pre{padding: 0;}#sk-container-id-1 div.sk-toggleable {background-color: white;}#sk-container-id-1 label.sk-toggleable__label {cursor: pointer;display: block;width: 100%;margin-bottom: 0;padding: 0.3em;box-sizing: border-box;text-align: center;}#sk-container-id-1 label.sk-toggleable__label-arrow:before {content: \"▸\";float: left;margin-right: 0.25em;color: #696969;}#sk-container-id-1 label.sk-toggleable__label-arrow:hover:before {color: black;}#sk-container-id-1 div.sk-estimator:hover label.sk-toggleable__label-arrow:before {color: black;}#sk-container-id-1 div.sk-toggleable__content {max-height: 0;max-width: 0;overflow: hidden;text-align: left;background-color: #f0f8ff;}#sk-container-id-1 div.sk-toggleable__content pre {margin: 0.2em;color: black;border-radius: 0.25em;background-color: #f0f8ff;}#sk-container-id-1 input.sk-toggleable__control:checked~div.sk-toggleable__content {max-height: 200px;max-width: 100%;overflow: auto;}#sk-container-id-1 input.sk-toggleable__control:checked~label.sk-toggleable__label-arrow:before {content: \"▾\";}#sk-container-id-1 div.sk-estimator input.sk-toggleable__control:checked~label.sk-toggleable__label {background-color: #d4ebff;}#sk-container-id-1 div.sk-label input.sk-toggleable__control:checked~label.sk-toggleable__label {background-color: #d4ebff;}#sk-container-id-1 input.sk-hidden--visually {border: 0;clip: rect(1px 1px 1px 1px);clip: rect(1px, 1px, 1px, 1px);height: 1px;margin: -1px;overflow: hidden;padding: 0;position: absolute;width: 1px;}#sk-container-id-1 div.sk-estimator {font-family: monospace;background-color: #f0f8ff;border: 1px dotted black;border-radius: 0.25em;box-sizing: border-box;margin-bottom: 0.5em;}#sk-container-id-1 div.sk-estimator:hover {background-color: #d4ebff;}#sk-container-id-1 div.sk-parallel-item::after {content: \"\";width: 100%;border-bottom: 1px solid gray;flex-grow: 1;}#sk-container-id-1 div.sk-label:hover label.sk-toggleable__label {background-color: #d4ebff;}#sk-container-id-1 div.sk-serial::before {content: \"\";position: absolute;border-left: 1px solid gray;box-sizing: border-box;top: 0;bottom: 0;left: 50%;z-index: 0;}#sk-container-id-1 div.sk-serial {display: flex;flex-direction: column;align-items: center;background-color: white;padding-right: 0.2em;padding-left: 0.2em;position: relative;}#sk-container-id-1 div.sk-item {position: relative;z-index: 1;}#sk-container-id-1 div.sk-parallel {display: flex;align-items: stretch;justify-content: center;background-color: white;position: relative;}#sk-container-id-1 div.sk-item::before, #sk-container-id-1 div.sk-parallel-item::before {content: \"\";position: absolute;border-left: 1px solid gray;box-sizing: border-box;top: 0;bottom: 0;left: 50%;z-index: -1;}#sk-container-id-1 div.sk-parallel-item {display: flex;flex-direction: column;z-index: 1;position: relative;background-color: white;}#sk-container-id-1 div.sk-parallel-item:first-child::after {align-self: flex-end;width: 50%;}#sk-container-id-1 div.sk-parallel-item:last-child::after {align-self: flex-start;width: 50%;}#sk-container-id-1 div.sk-parallel-item:only-child::after {width: 0;}#sk-container-id-1 div.sk-dashed-wrapped {border: 1px dashed gray;margin: 0 0.4em 0.5em 0.4em;box-sizing: border-box;padding-bottom: 0.4em;background-color: white;}#sk-container-id-1 div.sk-label label {font-family: monospace;font-weight: bold;display: inline-block;line-height: 1.2em;}#sk-container-id-1 div.sk-label-container {text-align: center;}#sk-container-id-1 div.sk-container {/* jupyter's `normalize.less` sets `[hidden] { display: none; }` but bootstrap.min.css set `[hidden] { display: none !important; }` so we also need the `!important` here to be able to override the default hidden behavior on the sphinx rendered scikit-learn.org. See: https://github.com/scikit-learn/scikit-learn/issues/21755 */display: inline-block !important;position: relative;}#sk-container-id-1 div.sk-text-repr-fallback {display: none;}</style><div id=\"sk-container-id-1\" class=\"sk-top-container\"><div class=\"sk-text-repr-fallback\"><pre>LinearRegression()</pre><b>In a Jupyter environment, please rerun this cell to show the HTML representation or trust the notebook. <br />On GitHub, the HTML representation is unable to render, please try loading this page with nbviewer.org.</b></div><div class=\"sk-container\" hidden><div class=\"sk-item\"><div class=\"sk-estimator sk-toggleable\"><input class=\"sk-toggleable__control sk-hidden--visually\" id=\"sk-estimator-id-1\" type=\"checkbox\" checked><label for=\"sk-estimator-id-1\" class=\"sk-toggleable__label sk-toggleable__label-arrow\">LinearRegression</label><div class=\"sk-toggleable__content\"><pre>LinearRegression()</pre></div></div></div></div></div>"
      ],
      "text/plain": [
       "LinearRegression()"
      ]
     },
     "execution_count": 13,
     "metadata": {},
     "output_type": "execute_result"
    }
   ],
   "source": [
    "#fit the model\n",
    "model = LinearRegression().fit(X_train, y_train)\n",
    "\n",
    "#make sure the model is made\n",
    "model"
   ]
  },
  {
   "cell_type": "code",
   "execution_count": 14,
   "id": "d6b7ada0",
   "metadata": {},
   "outputs": [
    {
     "data": {
      "text/plain": [
       "array([[472999.47132013],\n",
       "       [316343.01783735],\n",
       "       [307573.82357218],\n",
       "       ...,\n",
       "       [244405.89878074],\n",
       "       [267146.35170566],\n",
       "       [265660.04759292]])"
      ]
     },
     "execution_count": 14,
     "metadata": {},
     "output_type": "execute_result"
    }
   ],
   "source": [
    "#use the model\n",
    "predictions = model.predict(X_train)\n",
    "\n",
    "#take a look at the predictions\n",
    "predictions"
   ]
  },
  {
   "cell_type": "code",
   "execution_count": 15,
   "id": "614f5311",
   "metadata": {},
   "outputs": [],
   "source": [
    "#create a column that contains just the predictions\n",
    "train['yhat'] = predictions"
   ]
  },
  {
   "cell_type": "code",
   "execution_count": 16,
   "id": "d2746b4a",
   "metadata": {},
   "outputs": [
    {
     "data": {
      "text/html": [
       "<div>\n",
       "<style scoped>\n",
       "    .dataframe tbody tr th:only-of-type {\n",
       "        vertical-align: middle;\n",
       "    }\n",
       "\n",
       "    .dataframe tbody tr th {\n",
       "        vertical-align: top;\n",
       "    }\n",
       "\n",
       "    .dataframe thead th {\n",
       "        text-align: right;\n",
       "    }\n",
       "</style>\n",
       "<table border=\"1\" class=\"dataframe\">\n",
       "  <thead>\n",
       "    <tr style=\"text-align: right;\">\n",
       "      <th></th>\n",
       "      <th>sqft</th>\n",
       "      <th>home_value</th>\n",
       "      <th>yhat</th>\n",
       "    </tr>\n",
       "  </thead>\n",
       "  <tbody>\n",
       "    <tr>\n",
       "      <th>98009</th>\n",
       "      <td>0.770968</td>\n",
       "      <td>467280.0</td>\n",
       "      <td>472999.471320</td>\n",
       "    </tr>\n",
       "    <tr>\n",
       "      <th>1302707</th>\n",
       "      <td>0.461877</td>\n",
       "      <td>220764.0</td>\n",
       "      <td>316343.017837</td>\n",
       "    </tr>\n",
       "    <tr>\n",
       "      <th>1400834</th>\n",
       "      <td>0.444575</td>\n",
       "      <td>86868.0</td>\n",
       "      <td>307573.823572</td>\n",
       "    </tr>\n",
       "  </tbody>\n",
       "</table>\n",
       "</div>"
      ],
      "text/plain": [
       "             sqft  home_value           yhat\n",
       "98009    0.770968    467280.0  472999.471320\n",
       "1302707  0.461877    220764.0  316343.017837\n",
       "1400834  0.444575     86868.0  307573.823572"
      ]
     },
     "execution_count": 16,
     "metadata": {},
     "output_type": "execute_result"
    }
   ],
   "source": [
    "#take a look at our predictions\n",
    "train.head(3)"
   ]
  },
  {
   "cell_type": "markdown",
   "id": "7f7b460a",
   "metadata": {},
   "source": [
    "<hr style=\"border:1px solid black\">"
   ]
  },
  {
   "cell_type": "markdown",
   "id": "318a8770",
   "metadata": {},
   "source": [
    "### #3. Plot the residuals for the linear regression model that you made."
   ]
  },
  {
   "cell_type": "markdown",
   "id": "14dd1703",
   "metadata": {},
   "source": [
    "<div class=\"alert alert-block alert-info\">\n",
    "<b>Note:</b> \n",
    "    <br>\n",
    "\n",
    "<u>Residual</u>: our prediction value (yhat) minus our target variable value \n",
    "<br>\n",
    "\n",
    "Residual = yhat-y\n",
    "<br>\n",
    "\n",
    "<b>Important</b>: You can use 'y - yhat' as well for residual. Both are correct but 'yhat - y' is easier to conceptualize   \n",
    "</div>"
   ]
  },
  {
   "cell_type": "code",
   "execution_count": 17,
   "id": "6a360086",
   "metadata": {},
   "outputs": [],
   "source": [
    "#create a column for residual\n",
    "train['residuals'] =  train.yhat - train.home_value"
   ]
  },
  {
   "cell_type": "code",
   "execution_count": 18,
   "id": "4b9a956c",
   "metadata": {},
   "outputs": [
    {
     "data": {
      "text/html": [
       "<div>\n",
       "<style scoped>\n",
       "    .dataframe tbody tr th:only-of-type {\n",
       "        vertical-align: middle;\n",
       "    }\n",
       "\n",
       "    .dataframe tbody tr th {\n",
       "        vertical-align: top;\n",
       "    }\n",
       "\n",
       "    .dataframe thead th {\n",
       "        text-align: right;\n",
       "    }\n",
       "</style>\n",
       "<table border=\"1\" class=\"dataframe\">\n",
       "  <thead>\n",
       "    <tr style=\"text-align: right;\">\n",
       "      <th></th>\n",
       "      <th>sqft</th>\n",
       "      <th>home_value</th>\n",
       "      <th>yhat</th>\n",
       "      <th>residuals</th>\n",
       "    </tr>\n",
       "  </thead>\n",
       "  <tbody>\n",
       "    <tr>\n",
       "      <th>98009</th>\n",
       "      <td>0.770968</td>\n",
       "      <td>467280.0</td>\n",
       "      <td>472999.471320</td>\n",
       "      <td>5719.471320</td>\n",
       "    </tr>\n",
       "    <tr>\n",
       "      <th>1302707</th>\n",
       "      <td>0.461877</td>\n",
       "      <td>220764.0</td>\n",
       "      <td>316343.017837</td>\n",
       "      <td>95579.017837</td>\n",
       "    </tr>\n",
       "    <tr>\n",
       "      <th>1400834</th>\n",
       "      <td>0.444575</td>\n",
       "      <td>86868.0</td>\n",
       "      <td>307573.823572</td>\n",
       "      <td>220705.823572</td>\n",
       "    </tr>\n",
       "  </tbody>\n",
       "</table>\n",
       "</div>"
      ],
      "text/plain": [
       "             sqft  home_value           yhat      residuals\n",
       "98009    0.770968    467280.0  472999.471320    5719.471320\n",
       "1302707  0.461877    220764.0  316343.017837   95579.017837\n",
       "1400834  0.444575     86868.0  307573.823572  220705.823572"
      ]
     },
     "execution_count": 18,
     "metadata": {},
     "output_type": "execute_result"
    }
   ],
   "source": [
    "#take a look at our columns\n",
    "train.head(3)"
   ]
  },
  {
   "cell_type": "code",
   "execution_count": 19,
   "id": "94ae2a49",
   "metadata": {},
   "outputs": [
    {
     "data": {
      "image/png": "[encoded data removed]",
      "text/plain": [
       "<Figure size 640x480 with 1 Axes>"
      ]
     },
     "metadata": {},
     "output_type": "display_data"
    }
   ],
   "source": [
    "#let's visualize our actual vs our residuals\n",
    "sns.scatterplot(data=train, x='tax_val_usd', y='residuals')\n",
    "\n",
    "plt.xlabel('Actual Home Value')\n",
    "plt.ylabel('Residual Value')\n",
    "plt.title('Residuals vs Actual Value')\n",
    "plt.show()"
   ]
  },
  {
   "cell_type": "markdown",
   "id": "5bec4288",
   "metadata": {},
   "source": [
    "<hr style=\"border:1px solid black\">"
   ]
  },
  {
   "cell_type": "markdown",
   "id": "6304e0e9",
   "metadata": {},
   "source": [
    "### #4. Calculate the sum of squared errors, explained sum of squares, total sum of squares, mean squared error, and root mean squared error for your model."
   ]
  },
  {
   "cell_type": "markdown",
   "id": "ae527c67",
   "metadata": {},
   "source": [
    "<b>a. ```SSE```: Sum of Squared Errors</b>"
   ]
  },
  {
   "cell_type": "markdown",
   "id": "90591eb2",
   "metadata": {},
   "source": [
    "<div class=\"alert alert-block alert-info\">\n",
    "<b>Note:</b> \n",
    "    <br>\n",
    "\n",
    "<u>SSE</u>: (AKA: RSS- residual sum of squares) Square the residuals one at a time, and take the sum of all of them. Calculating how much error there is in our models predictions. By squaring it, we do not have to worry about the sign (+ or -). Entire addition of how much we missed.\n",
    "</div>"
   ]
  },
  {
   "cell_type": "code",
   "execution_count": 20,
   "id": "5d1a7f22",
   "metadata": {},
   "outputs": [
    {
     "data": {
      "text/plain": [
       "3.3497004136503416e+16"
      ]
     },
     "execution_count": 20,
     "metadata": {},
     "output_type": "execute_result"
    }
   ],
   "source": [
    "#calculate sum of squared errors (SSE)\n",
    "SSE = (train.residuals **2).sum()\n",
    "SSE"
   ]
  },
  {
   "cell_type": "markdown",
   "id": "049a5cb8",
   "metadata": {},
   "source": [
    "<b>b. ```ESS```: Explained Sum of Squares</b>"
   ]
  },
  {
   "cell_type": "markdown",
   "id": "55203428",
   "metadata": {},
   "source": [
    "<div class=\"alert alert-block alert-info\">\n",
    "<b>Note:</b> \n",
    "    <br>\n",
    "\n",
    "<u>ESS</u>: the sum of the difference between the each predicted value (yhat) and the mean of all actual values\n",
    "</div>"
   ]
  },
  {
   "cell_type": "code",
   "execution_count": 21,
   "id": "d9702577",
   "metadata": {},
   "outputs": [
    {
     "data": {
      "text/plain": [
       "7275587158661324.0"
      ]
     },
     "execution_count": 21,
     "metadata": {},
     "output_type": "execute_result"
    }
   ],
   "source": [
    "ESS = ((train.yhat - train.home_value.mean())**2).sum()\n",
    "ESS"
   ]
  },
  {
   "cell_type": "markdown",
   "id": "577245b7",
   "metadata": {},
   "source": [
    "<b>c. ```TSS```: Total Sum of Squares</b>"
   ]
  },
  {
   "cell_type": "markdown",
   "id": "2e7d97c3",
   "metadata": {},
   "source": [
    "<div class=\"alert alert-block alert-info\">\n",
    "<b>Note:</b> \n",
    "    <br>\n",
    "\n",
    "<u>TSS</u>: the sum of difference between the actual home value and the mean of all home values. It can also be derived by summing the ESS and SSE\n",
    "</div>"
   ]
  },
  {
   "cell_type": "code",
   "execution_count": 22,
   "id": "5cc1a74a",
   "metadata": {},
   "outputs": [
    {
     "data": {
      "text/plain": [
       "4.077259129516474e+16"
      ]
     },
     "execution_count": 22,
     "metadata": {},
     "output_type": "execute_result"
    }
   ],
   "source": [
    "TSS = ESS + SSE\n",
    "TSS"
   ]
  },
  {
   "cell_type": "markdown",
   "id": "509646db",
   "metadata": {},
   "source": [
    "<b>d. ```MSE```: Mean Squared Errors</b>"
   ]
  },
  {
   "cell_type": "markdown",
   "id": "e5919497",
   "metadata": {},
   "source": [
    "<div class=\"alert alert-block alert-info\">\n",
    "<b>Note:</b> \n",
    "    <br>\n",
    "\n",
    "<u>MSE</u>: Take the sum of squared error (SSE), then divide by number of operations.  \n",
    "</div>"
   ]
  },
  {
   "cell_type": "code",
   "execution_count": 23,
   "id": "78e7f055",
   "metadata": {},
   "outputs": [
    {
     "data": {
      "text/plain": [
       "32424624529.441208"
      ]
     },
     "execution_count": 23,
     "metadata": {},
     "output_type": "execute_result"
    }
   ],
   "source": [
    "#one way to accomplish this\n",
    "SSE/len(train.yhat)"
   ]
  },
  {
   "cell_type": "code",
   "execution_count": 24,
   "id": "3c348ed5",
   "metadata": {},
   "outputs": [
    {
     "data": {
      "text/plain": [
       "32424624529.441208"
      ]
     },
     "execution_count": 24,
     "metadata": {},
     "output_type": "execute_result"
    }
   ],
   "source": [
    "#another way to accomplish this using a library\n",
    "MSE = mean_squared_error(train.home_value, train.yhat)\n",
    "MSE"
   ]
  },
  {
   "cell_type": "markdown",
   "id": "0d7734ed",
   "metadata": {},
   "source": [
    "<b>e. ```RMSE```: Root Mean Squared Errors</b>"
   ]
  },
  {
   "cell_type": "markdown",
   "id": "415a19fa",
   "metadata": {},
   "source": [
    "<div class=\"alert alert-block alert-info\">\n",
    "<b>Note:</b> \n",
    "    <br>\n",
    "<u>RMSE</u>: On average, this is how often we missed our mark.\n",
    "<br>\n",
    "    \n",
    "We want our RMSE (amount of error left over from model predictions) to be smaller. The closer to 0 the better.\n",
    "<br>"
   ]
  },
  {
   "cell_type": "code",
   "execution_count": 25,
   "id": "fb7d5e08",
   "metadata": {},
   "outputs": [
    {
     "data": {
      "text/plain": [
       "180068.38847904763"
      ]
     },
     "execution_count": 25,
     "metadata": {},
     "output_type": "execute_result"
    }
   ],
   "source": [
    "#take the square root of Mean Squared Error\n",
    "RMSE = MSE**.5\n",
    "RMSE"
   ]
  },
  {
   "cell_type": "code",
   "execution_count": 26,
   "id": "19e5ed56",
   "metadata": {},
   "outputs": [
    {
     "data": {
      "text/plain": [
       "180068.38847904763"
      ]
     },
     "execution_count": 26,
     "metadata": {},
     "output_type": "execute_result"
    }
   ],
   "source": [
    "#another way to accomplish this using sqft function from math library\n",
    "math.sqrt(MSE)"
   ]
  },
  {
   "cell_type": "markdown",
   "id": "c3aa8c68",
   "metadata": {},
   "source": [
    "<hr style=\"border:1px solid black\">"
   ]
  },
  {
   "cell_type": "markdown",
   "id": "0777e2c5",
   "metadata": {},
   "source": [
    "### #5. Calculate the sum of squared errors, mean squared error, and root mean squared error for the baseline model (i.e. a model that always predicts the average ```taxvaluedollarcnt``` amount)."
   ]
  },
  {
   "cell_type": "markdown",
   "id": "9be224e2",
   "metadata": {},
   "source": [
    "<div class=\"alert alert-block alert-info\">\n",
    "<b>Note:</b> \n",
    "    <br>\n",
    "\n",
    "<u>Baseline</u>: the mean of our target variable. This value will remain constant.\n",
    "<br>"
   ]
  },
  {
   "cell_type": "code",
   "execution_count": 27,
   "id": "8fb566d0",
   "metadata": {},
   "outputs": [],
   "source": [
    "#create our baseline column\n",
    "train['baseline'] = train.home_value.mean()"
   ]
  },
  {
   "cell_type": "markdown",
   "id": "4118b18d",
   "metadata": {},
   "source": [
    "<b>MSE</b>"
   ]
  },
  {
   "cell_type": "code",
   "execution_count": 28,
   "id": "2bfdedd1",
   "metadata": {},
   "outputs": [
    {
     "data": {
      "text/plain": [
       "39467289625.38667"
      ]
     },
     "execution_count": 28,
     "metadata": {},
     "output_type": "execute_result"
    }
   ],
   "source": [
    "MSE_baseline = mean_squared_error(train.home_value, train.baseline)\n",
    "MSE_baseline"
   ]
  },
  {
   "cell_type": "code",
   "execution_count": 29,
   "id": "22e1a577",
   "metadata": {},
   "outputs": [],
   "source": [
    "#create a column for SSE baseline column\n",
    "train['MSE_baseline'] = MSE_baseline"
   ]
  },
  {
   "cell_type": "markdown",
   "id": "edfa6fc3",
   "metadata": {},
   "source": [
    "<b>SSE</b>"
   ]
  },
  {
   "cell_type": "code",
   "execution_count": 30,
   "id": "f15aaf52",
   "metadata": {},
   "outputs": [
    {
     "data": {
      "text/plain": [
       "4.077259129516709e+16"
      ]
     },
     "execution_count": 30,
     "metadata": {},
     "output_type": "execute_result"
    }
   ],
   "source": [
    "SSE_baseline = MSE_baseline * len(train)\n",
    "SSE_baseline"
   ]
  },
  {
   "cell_type": "code",
   "execution_count": 31,
   "id": "12daf4f2",
   "metadata": {},
   "outputs": [],
   "source": [
    "#create a column for SSE baseline column\n",
    "train['SSE_baseline'] = SSE_baseline"
   ]
  },
  {
   "cell_type": "markdown",
   "id": "5c77edcd",
   "metadata": {},
   "source": [
    "<b>RMSE</b>"
   ]
  },
  {
   "cell_type": "code",
   "execution_count": 32,
   "id": "1fe675c6",
   "metadata": {},
   "outputs": [
    {
     "data": {
      "text/plain": [
       "198663.76022160327"
      ]
     },
     "execution_count": 32,
     "metadata": {},
     "output_type": "execute_result"
    }
   ],
   "source": [
    "RMSE_baseline = MSE_baseline**.5\n",
    "RMSE_baseline"
   ]
  },
  {
   "cell_type": "code",
   "execution_count": 33,
   "id": "976d8445",
   "metadata": {},
   "outputs": [],
   "source": [
    "#create a column for RMSE baseline column\n",
    "train['RMSE_baseline'] = RMSE_baseline"
   ]
  },
  {
   "cell_type": "code",
   "execution_count": 34,
   "id": "83913b2b",
   "metadata": {},
   "outputs": [
    {
     "data": {
      "text/html": [
       "<div>\n",
       "<style scoped>\n",
       "    .dataframe tbody tr th:only-of-type {\n",
       "        vertical-align: middle;\n",
       "    }\n",
       "\n",
       "    .dataframe tbody tr th {\n",
       "        vertical-align: top;\n",
       "    }\n",
       "\n",
       "    .dataframe thead th {\n",
       "        text-align: right;\n",
       "    }\n",
       "</style>\n",
       "<table border=\"1\" class=\"dataframe\">\n",
       "  <thead>\n",
       "    <tr style=\"text-align: right;\">\n",
       "      <th></th>\n",
       "      <th>sqft</th>\n",
       "      <th>home_value</th>\n",
       "      <th>yhat</th>\n",
       "      <th>residuals</th>\n",
       "      <th>baseline</th>\n",
       "      <th>MSE_baseline</th>\n",
       "      <th>SSE_baseline</th>\n",
       "      <th>RMSE_baseline</th>\n",
       "    </tr>\n",
       "  </thead>\n",
       "  <tbody>\n",
       "    <tr>\n",
       "      <th>98009</th>\n",
       "      <td>0.770968</td>\n",
       "      <td>467280.0</td>\n",
       "      <td>472999.471320</td>\n",
       "      <td>5719.471320</td>\n",
       "      <td>328045.322681</td>\n",
       "      <td>3.946729e+10</td>\n",
       "      <td>4.077259e+16</td>\n",
       "      <td>198663.760222</td>\n",
       "    </tr>\n",
       "    <tr>\n",
       "      <th>1302707</th>\n",
       "      <td>0.461877</td>\n",
       "      <td>220764.0</td>\n",
       "      <td>316343.017837</td>\n",
       "      <td>95579.017837</td>\n",
       "      <td>328045.322681</td>\n",
       "      <td>3.946729e+10</td>\n",
       "      <td>4.077259e+16</td>\n",
       "      <td>198663.760222</td>\n",
       "    </tr>\n",
       "    <tr>\n",
       "      <th>1400834</th>\n",
       "      <td>0.444575</td>\n",
       "      <td>86868.0</td>\n",
       "      <td>307573.823572</td>\n",
       "      <td>220705.823572</td>\n",
       "      <td>328045.322681</td>\n",
       "      <td>3.946729e+10</td>\n",
       "      <td>4.077259e+16</td>\n",
       "      <td>198663.760222</td>\n",
       "    </tr>\n",
       "  </tbody>\n",
       "</table>\n",
       "</div>"
      ],
      "text/plain": [
       "             sqft  home_value           yhat      residuals       baseline  \\\n",
       "98009    0.770968    467280.0  472999.471320    5719.471320  328045.322681   \n",
       "1302707  0.461877    220764.0  316343.017837   95579.017837  328045.322681   \n",
       "1400834  0.444575     86868.0  307573.823572  220705.823572  328045.322681   \n",
       "\n",
       "         MSE_baseline  SSE_baseline  RMSE_baseline  \n",
       "98009    3.946729e+10  4.077259e+16  198663.760222  \n",
       "1302707  3.946729e+10  4.077259e+16  198663.760222  \n",
       "1400834  3.946729e+10  4.077259e+16  198663.760222  "
      ]
     },
     "execution_count": 34,
     "metadata": {},
     "output_type": "execute_result"
    }
   ],
   "source": [
    "#take a look\n",
    "train.head(3)"
   ]
  },
  {
   "cell_type": "markdown",
   "id": "4f5d76a5",
   "metadata": {},
   "source": [
    "<hr style=\"border:1px solid black\">"
   ]
  },
  {
   "cell_type": "markdown",
   "id": "1946c637",
   "metadata": {},
   "source": [
    "### #6. Write python code that compares the sum of squared errors for your model against the sum of squared errors for the baseline model and outputs whether or not your model performs better than the baseline model."
   ]
  },
  {
   "cell_type": "code",
   "execution_count": 35,
   "id": "32aed41f",
   "metadata": {},
   "outputs": [
    {
     "name": "stdout",
     "output_type": "stream",
     "text": [
      "My OSL model performs better than baseline\n"
     ]
    }
   ],
   "source": [
    "if SSE < SSE_baseline:\n",
    "    print('My OSL model performs better than baseline')\n",
    "else:\n",
    "    print('My OSL model performs worse than baseline. :( )')"
   ]
  },
  {
   "cell_type": "markdown",
   "id": "3da4e508",
   "metadata": {},
   "source": [
    "<hr style=\"border:1px solid black\">"
   ]
  },
  {
   "cell_type": "markdown",
   "id": "60dfcd6f",
   "metadata": {},
   "source": [
    "### #7. What is the amount of variance explained in your model?"
   ]
  },
  {
   "cell_type": "code",
   "execution_count": 36,
   "id": "cc4eb8a9",
   "metadata": {},
   "outputs": [
    {
     "data": {
      "text/plain": [
       "0.1784430895252945"
      ]
     },
     "execution_count": 36,
     "metadata": {},
     "output_type": "execute_result"
    }
   ],
   "source": [
    "#First, let's perform this manually\n",
    "R2 = ESS / TSS\n",
    "R2"
   ]
  },
  {
   "cell_type": "code",
   "execution_count": 37,
   "id": "529d2014",
   "metadata": {},
   "outputs": [
    {
     "name": "stdout",
     "output_type": "stream",
     "text": [
      "R-squared =  0.178\n",
      "Percent of variance =  17.8 %\n"
     ]
    }
   ],
   "source": [
    "#make it pretty\n",
    "print('R-squared = ',round(R2,3))\n",
    "print(\"Percent of variance = \", round(R2*100,1), \"%\")"
   ]
  },
  {
   "cell_type": "code",
   "execution_count": 38,
   "id": "0679caea",
   "metadata": {},
   "outputs": [
    {
     "data": {
      "text/plain": [
       "0.17844308952534182"
      ]
     },
     "execution_count": 38,
     "metadata": {},
     "output_type": "execute_result"
    }
   ],
   "source": [
    "#now, we can use sklearn function for R2 score\n",
    "r2_score(train.home_value, train.yhat)"
   ]
  },
  {
   "cell_type": "code",
   "execution_count": 39,
   "id": "01a5048c",
   "metadata": {},
   "outputs": [
    {
     "name": "stdout",
     "output_type": "stream",
     "text": [
      "Explained Variance =  0.178\n"
     ]
    }
   ],
   "source": [
    "#explained variance score- using import\n",
    "evs = explained_variance_score(train.home_value, train.yhat)\n",
    "print('Explained Variance = ', round(evs,3))"
   ]
  },
  {
   "cell_type": "markdown",
   "id": "66e24246",
   "metadata": {},
   "source": [
    "<hr style=\"border:1px solid black\">"
   ]
  },
  {
   "cell_type": "markdown",
   "id": "572b47a7",
   "metadata": {},
   "source": [
    "### #8. Is your model better than the baseline model?"
   ]
  },
  {
   "cell_type": "code",
   "execution_count": 40,
   "id": "25a7ca4d",
   "metadata": {},
   "outputs": [
    {
     "data": {
      "text/plain": [
       "18595.37174255564"
      ]
     },
     "execution_count": 40,
     "metadata": {},
     "output_type": "execute_result"
    }
   ],
   "source": [
    "RMSE_baseline - RMSE"
   ]
  },
  {
   "cell_type": "code",
   "execution_count": 41,
   "id": "b9973c1f",
   "metadata": {},
   "outputs": [
    {
     "name": "stdout",
     "output_type": "stream",
     "text": [
      "The model rmse performs better the rmse_baseline\n"
     ]
    }
   ],
   "source": [
    "if RMSE < RMSE_baseline:\n",
    "    print(f'The model rmse performs better the rmse_baseline')\n",
    "else:\n",
    "    print(f'The model rmse performs worse than the rmse_baseline')"
   ]
  },
  {
   "cell_type": "markdown",
   "id": "c1b4d9f8",
   "metadata": {},
   "source": [
    "- Yes! The model does perform better than the baseline, but it is still not an ideal model. We can do better."
   ]
  },
  {
   "cell_type": "markdown",
   "id": "d69d4763",
   "metadata": {},
   "source": [
    "<hr style=\"border:1px solid black\">"
   ]
  },
  {
   "cell_type": "markdown",
   "id": "73040244",
   "metadata": {},
   "source": [
    "### #9. Create a file named evaluate.py that contains the following functions."
   ]
  },
  {
   "cell_type": "markdown",
   "id": "ff7654e9",
   "metadata": {},
   "source": [
    "<b>a. ```plot_residuals(y, yhat)```: creates a residual plot</b>"
   ]
  },
  {
   "cell_type": "code",
   "execution_count": 42,
   "id": "7450514a",
   "metadata": {},
   "outputs": [],
   "source": [
    "def plot_residuals(y, yhat):\n",
    "    '''\n",
    "    This function takes in actual value and predicted value \n",
    "    then creates a scatter plot of those values\n",
    "    '''\n",
    "    residuals = y - yhat\n",
    "    \n",
    "    plt.scatter(x=y, y=residuals)\n",
    "    plt.xlabel('Home Value')\n",
    "    plt.ylabel('Residuals')\n",
    "    plt.title('Residual vs Home Value Plot')\n",
    "    plt.show()"
   ]
  },
  {
   "cell_type": "code",
   "execution_count": 43,
   "id": "786956ee",
   "metadata": {},
   "outputs": [
    {
     "data": {
      "image/png": "[encoded data removed]",
      "text/plain": [
       "<Figure size 640x480 with 1 Axes>"
      ]
     },
     "metadata": {},
     "output_type": "display_data"
    }
   ],
   "source": [
    "#use the function we just created\n",
    "plot_residuals(train.home_value, train.yhat)"
   ]
  },
  {
   "cell_type": "markdown",
   "id": "0df918fa",
   "metadata": {},
   "source": [
    "<hr style=\"border:0.5px solid black\">"
   ]
  },
  {
   "cell_type": "markdown",
   "id": "a54f8100",
   "metadata": {},
   "source": [
    "<b>b. ```regression_errors(y, yhat)```: returns the following values:</b>"
   ]
  },
  {
   "cell_type": "code",
   "execution_count": 44,
   "id": "c391915c",
   "metadata": {},
   "outputs": [],
   "source": [
    "def regression_errors(y, yhat):\n",
    "    '''\n",
    "    This function takes in actual value and predicted value \n",
    "    then outputs: the sse, ess, tss, mse, and rmse\n",
    "    '''\n",
    "    MSE = mean_squared_error(y, yhat)\n",
    "    SSE = MSE * len(y)\n",
    "    RMSE = math.sqrt(MSE)\n",
    "    ESS = ((yhat - y.mean())**2).sum()\n",
    "    TSS = ESS + SSE\n",
    "           \n",
    "    print(f'SSE: {SSE: .4f}')\n",
    "    print(f'ESS: {ESS: .4f}')\n",
    "    print(f'TSS: {TSS: .4f}')\n",
    "    print(f'MSE: {MSE: .4f}')\n",
    "    print(f'RMSE: {RMSE: .4f}')\n",
    "\n",
    "    return MSE, SSE, RMSE, ESS, TSS"
   ]
  },
  {
   "cell_type": "code",
   "execution_count": 45,
   "id": "44803b24",
   "metadata": {},
   "outputs": [
    {
     "name": "stdout",
     "output_type": "stream",
     "text": [
      "SSE:  33497004136503416.0000\n",
      "ESS:  7275587158661324.0000\n",
      "TSS:  40772591295164736.0000\n",
      "MSE:  32424624529.4412\n",
      "RMSE:  180068.3885\n"
     ]
    },
    {
     "data": {
      "text/plain": [
       "(32424624529.441208,\n",
       " 3.3497004136503416e+16,\n",
       " 180068.38847904763,\n",
       " 7275587158661324.0,\n",
       " 4.077259129516474e+16)"
      ]
     },
     "execution_count": 45,
     "metadata": {},
     "output_type": "execute_result"
    }
   ],
   "source": [
    "regression_errors(train.home_value, train.yhat)"
   ]
  },
  {
   "cell_type": "markdown",
   "id": "0ba97a11",
   "metadata": {},
   "source": [
    "<hr style=\"border:0.5px solid black\">"
   ]
  },
  {
   "cell_type": "markdown",
   "id": "c1219472",
   "metadata": {},
   "source": [
    "<b>c. ```baseline_mean_errors(y)```: computes the SSE, MSE, and RMSE for the baseline model</b>"
   ]
  },
  {
   "cell_type": "code",
   "execution_count": 46,
   "id": "9b4ea501",
   "metadata": {},
   "outputs": [],
   "source": [
    "def baseline_mean_errors(y):\n",
    "    baseline = np.repeat(y.mean(), len(y))\n",
    "    \n",
    "    MSE = mean_squared_error(y, baseline)\n",
    "    SSE = MSE * len(y)\n",
    "    RMSE = MSE**.5\n",
    "    \n",
    "    print(f'sse_baseline: {SSE: .4f}')\n",
    "    print(f'mse_baseline: {MSE: .4f}')\n",
    "    print(f'rmse_baseline: {RMSE: .4f}')\n",
    "    \n",
    "    return MSE, SSE, RMSE"
   ]
  },
  {
   "cell_type": "code",
   "execution_count": 47,
   "id": "452112b7",
   "metadata": {},
   "outputs": [
    {
     "name": "stdout",
     "output_type": "stream",
     "text": [
      "sse_baseline:  40772591295167088.0000\n",
      "mse_baseline:  39467289625.3867\n",
      "rmse_baseline:  198663.7602\n"
     ]
    },
    {
     "data": {
      "text/plain": [
       "(39467289625.38667, 4.077259129516709e+16, 198663.76022160327)"
      ]
     },
     "execution_count": 47,
     "metadata": {},
     "output_type": "execute_result"
    }
   ],
   "source": [
    "baseline_mean_errors(train.home_value)"
   ]
  },
  {
   "cell_type": "markdown",
   "id": "1a6c6eb6",
   "metadata": {},
   "source": [
    "<hr style=\"border:0.5px solid black\">"
   ]
  },
  {
   "cell_type": "markdown",
   "id": "00ce7770",
   "metadata": {},
   "source": [
    "<b>d. ```better_than_baseline(y, yhat)```: returns true if your model performs better than the baseline, otherwise false</b>"
   ]
  },
  {
   "cell_type": "code",
   "execution_count": 48,
   "id": "579964b4",
   "metadata": {},
   "outputs": [],
   "source": [
    "def better_than_baseline(y, yhat):\n",
    "    '''\n",
    "    This function takes in the target and the prediction\n",
    "    then returns a print statement \n",
    "    to inform us if the model outperforms the baseline\n",
    "    '''\n",
    "    SSE, ESS, TSS, MSE, RMSE = regression_errors(y, yhat)\n",
    "    \n",
    "    SSE_baseline, MSE_baseline, RMSE_baseline = baseline_mean_errors(y)\n",
    "    \n",
    "    if SSE < SSE_baseline:\n",
    "        print('My OSL model performs better than baseline')\n",
    "    else:\n",
    "        print('My OSL model performs worse than baseline. :( )')"
   ]
  },
  {
   "cell_type": "code",
   "execution_count": 49,
   "id": "6b59c616",
   "metadata": {},
   "outputs": [
    {
     "name": "stdout",
     "output_type": "stream",
     "text": [
      "SSE:  33497004136503416.0000\n",
      "ESS:  7275587158661324.0000\n",
      "TSS:  40772591295164736.0000\n",
      "MSE:  32424624529.4412\n",
      "RMSE:  180068.3885\n",
      "sse_baseline:  40772591295167088.0000\n",
      "mse_baseline:  39467289625.3867\n",
      "rmse_baseline:  198663.7602\n",
      "My OSL model performs better than baseline\n"
     ]
    }
   ],
   "source": [
    "better_than_baseline(train.home_value, train.yhat)"
   ]
  },
  {
   "cell_type": "markdown",
   "id": "e6e5e25d",
   "metadata": {},
   "source": [
    "<hr style=\"border:2px solid gray\">\n",
    "<hr style=\"border:2px solid gray\">"
   ]
  },
  {
   "cell_type": "markdown",
   "id": "a16ea0a9",
   "metadata": {},
   "source": [
    "# Bonus"
   ]
  },
  {
   "cell_type": "markdown",
   "id": "d635ef7e",
   "metadata": {},
   "source": [
    "1. Load the tips dataset from either pydataset or seaborn. Fit a linear regression model (ordinary least squares) and compute yhat, predictions of tip using total_bill.\n",
    "\n",
    "2. Load the mpg dataset and fit a model that predicts highway mileage based on engine displacement. Take a look at all the regression evaluation metrics, and determine whether this model is better than the baseline model. Use the functions from your evaluate.py to help accomplish this."
   ]
  },
  {
   "cell_type": "markdown",
   "id": "3143edbe",
   "metadata": {},
   "source": [
    "### #1. Load the tips dataset from either pydataset or seaborn. Fit a linear regression model (ordinary least squares) and compute yhat, predictions of tip using total_bill."
   ]
  },
  {
   "cell_type": "code",
   "execution_count": 50,
   "id": "a146311a",
   "metadata": {},
   "outputs": [],
   "source": [
    "tips_df = data('tips')"
   ]
  },
  {
   "cell_type": "code",
   "execution_count": 51,
   "id": "e9c22bbe",
   "metadata": {},
   "outputs": [
    {
     "data": {
      "text/html": [
       "<div>\n",
       "<style scoped>\n",
       "    .dataframe tbody tr th:only-of-type {\n",
       "        vertical-align: middle;\n",
       "    }\n",
       "\n",
       "    .dataframe tbody tr th {\n",
       "        vertical-align: top;\n",
       "    }\n",
       "\n",
       "    .dataframe thead th {\n",
       "        text-align: right;\n",
       "    }\n",
       "</style>\n",
       "<table border=\"1\" class=\"dataframe\">\n",
       "  <thead>\n",
       "    <tr style=\"text-align: right;\">\n",
       "      <th></th>\n",
       "      <th>total_bill</th>\n",
       "      <th>tip</th>\n",
       "      <th>sex</th>\n",
       "      <th>smoker</th>\n",
       "      <th>day</th>\n",
       "      <th>time</th>\n",
       "      <th>size</th>\n",
       "    </tr>\n",
       "  </thead>\n",
       "  <tbody>\n",
       "    <tr>\n",
       "      <th>1</th>\n",
       "      <td>16.99</td>\n",
       "      <td>1.01</td>\n",
       "      <td>Female</td>\n",
       "      <td>No</td>\n",
       "      <td>Sun</td>\n",
       "      <td>Dinner</td>\n",
       "      <td>2</td>\n",
       "    </tr>\n",
       "    <tr>\n",
       "      <th>2</th>\n",
       "      <td>10.34</td>\n",
       "      <td>1.66</td>\n",
       "      <td>Male</td>\n",
       "      <td>No</td>\n",
       "      <td>Sun</td>\n",
       "      <td>Dinner</td>\n",
       "      <td>3</td>\n",
       "    </tr>\n",
       "    <tr>\n",
       "      <th>3</th>\n",
       "      <td>21.01</td>\n",
       "      <td>3.50</td>\n",
       "      <td>Male</td>\n",
       "      <td>No</td>\n",
       "      <td>Sun</td>\n",
       "      <td>Dinner</td>\n",
       "      <td>3</td>\n",
       "    </tr>\n",
       "  </tbody>\n",
       "</table>\n",
       "</div>"
      ],
      "text/plain": [
       "   total_bill   tip     sex smoker  day    time  size\n",
       "1       16.99  1.01  Female     No  Sun  Dinner     2\n",
       "2       10.34  1.66    Male     No  Sun  Dinner     3\n",
       "3       21.01  3.50    Male     No  Sun  Dinner     3"
      ]
     },
     "execution_count": 51,
     "metadata": {},
     "output_type": "execute_result"
    }
   ],
   "source": [
    "tips_df.head(3)"
   ]
  },
  {
   "cell_type": "code",
   "execution_count": 52,
   "id": "5ba5597d",
   "metadata": {},
   "outputs": [
    {
     "name": "stdout",
     "output_type": "stream",
     "text": [
      "<class 'pandas.core.frame.DataFrame'>\n",
      "Int64Index: 244 entries, 1 to 244\n",
      "Data columns (total 7 columns):\n",
      " #   Column      Non-Null Count  Dtype  \n",
      "---  ------      --------------  -----  \n",
      " 0   total_bill  244 non-null    float64\n",
      " 1   tip         244 non-null    float64\n",
      " 2   sex         244 non-null    object \n",
      " 3   smoker      244 non-null    object \n",
      " 4   day         244 non-null    object \n",
      " 5   time        244 non-null    object \n",
      " 6   size        244 non-null    int64  \n",
      "dtypes: float64(2), int64(1), object(4)\n",
      "memory usage: 15.2+ KB\n"
     ]
    }
   ],
   "source": [
    "tips_df.info()"
   ]
  },
  {
   "cell_type": "code",
   "execution_count": 53,
   "id": "12f2349f",
   "metadata": {},
   "outputs": [],
   "source": [
    "#create and fit the model\n",
    "model = LinearRegression().fit(tips_df[['total_bill']], tips_df[['tip']])"
   ]
  },
  {
   "cell_type": "code",
   "execution_count": 54,
   "id": "7407f90d",
   "metadata": {},
   "outputs": [],
   "source": [
    "#use the model\n",
    "tips_df['yhat'] = model.predict(tips_df[['total_bill']])"
   ]
  },
  {
   "cell_type": "code",
   "execution_count": 55,
   "id": "b46e6f1a",
   "metadata": {},
   "outputs": [],
   "source": [
    "#create new column with baseline\n",
    "tips_df['yhat_baseline'] = tips_df.total_bill.mean()"
   ]
  },
  {
   "cell_type": "code",
   "execution_count": 56,
   "id": "13226ee4",
   "metadata": {},
   "outputs": [
    {
     "data": {
      "text/plain": [
       "count    244.000000\n",
       "mean      19.785943\n",
       "std        8.902412\n",
       "min        3.070000\n",
       "25%       13.347500\n",
       "50%       17.795000\n",
       "75%       24.127500\n",
       "max       50.810000\n",
       "Name: total_bill, dtype: float64"
      ]
     },
     "execution_count": 56,
     "metadata": {},
     "output_type": "execute_result"
    }
   ],
   "source": [
    "tips_df.total_bill.describe()"
   ]
  },
  {
   "cell_type": "code",
   "execution_count": 57,
   "id": "a3754e05",
   "metadata": {
    "scrolled": true
   },
   "outputs": [
    {
     "data": {
      "text/html": [
       "<div>\n",
       "<style scoped>\n",
       "    .dataframe tbody tr th:only-of-type {\n",
       "        vertical-align: middle;\n",
       "    }\n",
       "\n",
       "    .dataframe tbody tr th {\n",
       "        vertical-align: top;\n",
       "    }\n",
       "\n",
       "    .dataframe thead th {\n",
       "        text-align: right;\n",
       "    }\n",
       "</style>\n",
       "<table border=\"1\" class=\"dataframe\">\n",
       "  <thead>\n",
       "    <tr style=\"text-align: right;\">\n",
       "      <th></th>\n",
       "      <th>total_bill</th>\n",
       "      <th>tip</th>\n",
       "      <th>sex</th>\n",
       "      <th>smoker</th>\n",
       "      <th>day</th>\n",
       "      <th>time</th>\n",
       "      <th>size</th>\n",
       "      <th>yhat</th>\n",
       "      <th>yhat_baseline</th>\n",
       "    </tr>\n",
       "  </thead>\n",
       "  <tbody>\n",
       "    <tr>\n",
       "      <th>1</th>\n",
       "      <td>16.99</td>\n",
       "      <td>1.01</td>\n",
       "      <td>Female</td>\n",
       "      <td>No</td>\n",
       "      <td>Sun</td>\n",
       "      <td>Dinner</td>\n",
       "      <td>2</td>\n",
       "      <td>2.704636</td>\n",
       "      <td>19.785943</td>\n",
       "    </tr>\n",
       "    <tr>\n",
       "      <th>2</th>\n",
       "      <td>10.34</td>\n",
       "      <td>1.66</td>\n",
       "      <td>Male</td>\n",
       "      <td>No</td>\n",
       "      <td>Sun</td>\n",
       "      <td>Dinner</td>\n",
       "      <td>3</td>\n",
       "      <td>2.006223</td>\n",
       "      <td>19.785943</td>\n",
       "    </tr>\n",
       "    <tr>\n",
       "      <th>3</th>\n",
       "      <td>21.01</td>\n",
       "      <td>3.50</td>\n",
       "      <td>Male</td>\n",
       "      <td>No</td>\n",
       "      <td>Sun</td>\n",
       "      <td>Dinner</td>\n",
       "      <td>3</td>\n",
       "      <td>3.126835</td>\n",
       "      <td>19.785943</td>\n",
       "    </tr>\n",
       "  </tbody>\n",
       "</table>\n",
       "</div>"
      ],
      "text/plain": [
       "   total_bill   tip     sex smoker  day    time  size      yhat  yhat_baseline\n",
       "1       16.99  1.01  Female     No  Sun  Dinner     2  2.704636      19.785943\n",
       "2       10.34  1.66    Male     No  Sun  Dinner     3  2.006223      19.785943\n",
       "3       21.01  3.50    Male     No  Sun  Dinner     3  3.126835      19.785943"
      ]
     },
     "execution_count": 57,
     "metadata": {},
     "output_type": "execute_result"
    }
   ],
   "source": [
    "tips_df.head(3)"
   ]
  },
  {
   "cell_type": "code",
   "execution_count": 58,
   "id": "e09a8987",
   "metadata": {},
   "outputs": [],
   "source": [
    "tips_df['baseline_residuals'] = tips_df.tip - tips_df.yhat_baseline\n",
    "tips_df['residuals'] = tips_df.tip - tips_df.yhat"
   ]
  },
  {
   "cell_type": "code",
   "execution_count": 59,
   "id": "69dddcd0",
   "metadata": {},
   "outputs": [
    {
     "data": {
      "image/png": "[encoded data removed]",
      "text/plain": [
       "<Figure size 1300x700 with 1 Axes>"
      ]
     },
     "metadata": {},
     "output_type": "display_data"
    }
   ],
   "source": [
    "#plot baseline over residuals\n",
    "fig, ax = plt.subplots(figsize=(13,7))\n",
    "\n",
    "ax.hist(tips_df.baseline_residuals, label='Baseline Residuals', alpha = .6)\n",
    "ax.hist(tips_df.residuals, label='Model Residuals', alpha = .6)\n",
    "ax.legend()\n",
    "plt.show()"
   ]
  },
  {
   "cell_type": "markdown",
   "id": "531f14d1",
   "metadata": {},
   "source": [
    "### #2. Load the mpg dataset and fit a model that predicts highway mileage based on engine displacement. Take a look at all the regression evaluation metrics, and determine whether this model is better than the baseline model. Use the functions from your evaluate.py to help accomplish this."
   ]
  },
  {
   "cell_type": "code",
   "execution_count": 61,
   "id": "0b517538",
   "metadata": {},
   "outputs": [],
   "source": [
    "import evaluate"
   ]
  },
  {
   "cell_type": "code",
   "execution_count": 62,
   "id": "80254534",
   "metadata": {},
   "outputs": [],
   "source": [
    "#import mpg\n",
    "mpg = data('mpg')"
   ]
  },
  {
   "cell_type": "code",
   "execution_count": 63,
   "id": "85c09e5d",
   "metadata": {},
   "outputs": [],
   "source": [
    "#create and fit the model\n",
    "model = LinearRegression().fit(mpg[['displ']], mpg.hwy)"
   ]
  },
  {
   "cell_type": "code",
   "execution_count": 64,
   "id": "1ae344ea",
   "metadata": {},
   "outputs": [],
   "source": [
    "#y\n",
    "#use the model\n",
    "mpg['actual'] = mpg['hwy']"
   ]
  },
  {
   "cell_type": "code",
   "execution_count": 65,
   "id": "be0e9ce3",
   "metadata": {},
   "outputs": [],
   "source": [
    "#y\n",
    "#use the model\n",
    "mpg['actual'] = mpg['hwy']\n",
    "#yhat\n",
    "mpg['predicted'] = model.predict(mpg[['displ']])"
   ]
  },
  {
   "cell_type": "code",
   "execution_count": 66,
   "id": "1a6cb805",
   "metadata": {},
   "outputs": [
    {
     "data": {
      "image/png": "[encoded data removed]",
      "text/plain": [
       "<Figure size 640x480 with 1 Axes>"
      ]
     },
     "metadata": {},
     "output_type": "display_data"
    }
   ],
   "source": [
    "#use function created\n",
    "evaluate.plot_residuals(mpg.actual, mpg.predicted)"
   ]
  },
  {
   "cell_type": "code",
   "execution_count": 68,
   "id": "e4a5f528",
   "metadata": {},
   "outputs": [
    {
     "name": "stdout",
     "output_type": "stream",
     "text": [
      "SSE:  3413.8290\n",
      "ESS:  4847.8334\n",
      "TSS:  8261.6624\n",
      "MSE:  14.5890\n",
      "RMSE:  3.8196\n"
     ]
    },
    {
     "data": {
      "text/plain": [
       "(14.589012858954984,\n",
       " 3413.829008995466,\n",
       " 3.819556631201452,\n",
       " 4847.833384166938,\n",
       " 8261.662393162405)"
      ]
     },
     "execution_count": 68,
     "metadata": {},
     "output_type": "execute_result"
    }
   ],
   "source": [
    "#use function created\n",
    "evaluate.regression_errors(mpg.actual, mpg.predicted)"
   ]
  },
  {
   "cell_type": "code",
   "execution_count": 69,
   "id": "31388a05",
   "metadata": {
    "scrolled": true
   },
   "outputs": [
    {
     "name": "stdout",
     "output_type": "stream",
     "text": [
      "sse_baseline:  8261.6624\n",
      "mse_baseline:  35.3062\n",
      "rmse_baseline:  5.9419\n"
     ]
    },
    {
     "data": {
      "text/plain": [
       "(35.30624954342902, 8261.66239316239, 5.941906221359356)"
      ]
     },
     "execution_count": 69,
     "metadata": {},
     "output_type": "execute_result"
    }
   ],
   "source": [
    "#use function created\n",
    "evaluate.baseline_mean_errors(mpg.actual)"
   ]
  },
  {
   "cell_type": "code",
   "execution_count": 70,
   "id": "b6ca9be3",
   "metadata": {},
   "outputs": [
    {
     "name": "stdout",
     "output_type": "stream",
     "text": [
      "SSE:  3413.8290\n",
      "ESS:  4847.8334\n",
      "TSS:  8261.6624\n",
      "MSE:  14.5890\n",
      "RMSE:  3.8196\n",
      "sse_baseline:  8261.6624\n",
      "mse_baseline:  35.3062\n",
      "rmse_baseline:  5.9419\n",
      "My OSL model performs better than baseline\n"
     ]
    }
   ],
   "source": [
    "#use function created\n",
    "evaluate.better_than_baseline(mpg.actual, mpg.predicted)"
   ]
  }
 ],
 "metadata": {
  "kernelspec": {
   "display_name": "Python 3 (ipykernel)",
   "language": "python",
   "name": "python3"
  },
  "language_info": {
   "codemirror_mode": {
    "name": "ipython",
    "version": 3
   },
   "file_extension": ".py",
   "mimetype": "text/x-python",
   "name": "python",
   "nbconvert_exporter": "python",
   "pygments_lexer": "ipython3",
   "version": "3.9.13"
  }
 },
 "nbformat": 4,
 "nbformat_minor": 5
}
