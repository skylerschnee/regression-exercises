{
 "cells": [
  {
   "cell_type": "code",
   "execution_count": 1,
   "id": "22217320",
   "metadata": {},
   "outputs": [],
   "source": [
    "# Imports\n",
    "import os\n",
    "import numpy as np\n",
    "import pandas as pd\n",
    "import matplotlib.pyplot as plt\n",
    "import seaborn as sns"
   ]
  },
  {
   "cell_type": "code",
   "execution_count": 3,
   "id": "0ab37ea4",
   "metadata": {},
   "outputs": [
    {
     "data": {
      "text/plain": [
       "True"
      ]
     },
     "execution_count": 3,
     "metadata": {},
     "output_type": "execute_result"
    }
   ],
   "source": [
    "os.path.exists('student_grades.csv')"
   ]
  },
  {
   "cell_type": "code",
   "execution_count": 4,
   "id": "245bf2d0",
   "metadata": {},
   "outputs": [],
   "source": [
    "def acquire_student_grades():\n",
    "    if os.path.exists('student_grades.csv'):\n",
    "        return pd.read_csv('student_grades.csv')\n",
    "    else:\n",
    "        print('El .csv no esta aqui')"
   ]
  },
  {
   "cell_type": "code",
   "execution_count": 5,
   "id": "d138aa8d",
   "metadata": {},
   "outputs": [],
   "source": [
    "df = acquire_student_grades()"
   ]
  },
  {
   "cell_type": "code",
   "execution_count": 19,
   "id": "ded933b0",
   "metadata": {},
   "outputs": [],
   "source": [
    "def gimmie_the_deets(df):\n",
    "    print('--------info-------')\n",
    "    print(df.info())\n",
    "    print('--------describe-------')\n",
    "    print(df.describe())\n",
    "    print('--------head-------')\n",
    "    print(df.head())"
   ]
  },
  {
   "cell_type": "code",
   "execution_count": 20,
   "id": "93a5d3c0",
   "metadata": {},
   "outputs": [
    {
     "name": "stdout",
     "output_type": "stream",
     "text": [
      "--------info-------\n",
      "<class 'pandas.core.frame.DataFrame'>\n",
      "RangeIndex: 104 entries, 0 to 103\n",
      "Data columns (total 5 columns):\n",
      " #   Column       Non-Null Count  Dtype  \n",
      "---  ------       --------------  -----  \n",
      " 0   student_id   104 non-null    int64  \n",
      " 1   exam1        103 non-null    float64\n",
      " 2   exam2        104 non-null    int64  \n",
      " 3   exam3        103 non-null    float64\n",
      " 4   final_grade  104 non-null    int64  \n",
      "dtypes: float64(2), int64(3)\n",
      "memory usage: 4.2 KB\n",
      "None\n",
      "--------describe-------\n",
      "       student_id       exam1       exam2       exam3  final_grade\n",
      "count  104.000000  103.000000  104.000000  103.000000   104.000000\n",
      "mean    52.500000   78.398058   77.307692   84.242718    81.692308\n",
      "std     30.166206   14.339948   10.295703    8.709321    10.918122\n",
      "min      1.000000   57.000000   65.000000   70.000000    65.000000\n",
      "25%     26.750000   70.000000   70.000000   78.000000    72.000000\n",
      "50%     52.500000   79.000000   75.000000   85.000000    81.000000\n",
      "75%     78.250000   92.000000   89.000000   94.000000    93.000000\n",
      "max    104.000000  100.000000   93.000000   96.000000    97.000000\n",
      "--------head-------\n",
      "   student_id  exam1  exam2  exam3  final_grade\n",
      "0           1  100.0     90   95.0           96\n",
      "1           2   98.0     93   96.0           95\n",
      "2           3   85.0     83   87.0           87\n",
      "3           4   83.0     80   86.0           85\n",
      "4           5   93.0     90   96.0           97\n"
     ]
    }
   ],
   "source": [
    "gimmie_the_deets(df)"
   ]
  },
  {
   "cell_type": "markdown",
   "id": "06d33f87",
   "metadata": {},
   "source": [
    "Immediate takeaways:\n",
    "- student_id may be arbitrary\n",
    "- exam 2 is an int, others are floats\n",
    "- exam 1 and 3 are missing values"
   ]
  },
  {
   "cell_type": "markdown",
   "id": "491e03a6",
   "metadata": {},
   "source": [
    "### What do we want to know about this data?\n",
    "\n",
    "#### What may we want to predict?"
   ]
  },
  {
   "cell_type": "code",
   "execution_count": 21,
   "id": "0ca66b25",
   "metadata": {},
   "outputs": [],
   "source": [
    "# planning and problem statement\n",
    "# Can we predict what the final grade of a student will be based on previous exam scores?"
   ]
  },
  {
   "cell_type": "code",
   "execution_count": 23,
   "id": "b2d459c8",
   "metadata": {},
   "outputs": [],
   "source": [
    "# first thing; drop the sudent id column\n",
    "df = df.drop(columns='student_id')"
   ]
  },
  {
   "cell_type": "code",
   "execution_count": 24,
   "id": "e2abaffb",
   "metadata": {},
   "outputs": [],
   "source": [
    "# no real utility to this, but can be used to maintain congruency with the student_id col we dropped,\n",
    "# so the index starts at 1 instead of 0.\n",
    "df.index = [i + 1 for i in df.index.to_list()]"
   ]
  },
  {
   "cell_type": "code",
   "execution_count": 25,
   "id": "d1e97e6f",
   "metadata": {},
   "outputs": [
    {
     "data": {
      "text/html": [
       "<div>\n",
       "<style scoped>\n",
       "    .dataframe tbody tr th:only-of-type {\n",
       "        vertical-align: middle;\n",
       "    }\n",
       "\n",
       "    .dataframe tbody tr th {\n",
       "        vertical-align: top;\n",
       "    }\n",
       "\n",
       "    .dataframe thead th {\n",
       "        text-align: right;\n",
       "    }\n",
       "</style>\n",
       "<table border=\"1\" class=\"dataframe\">\n",
       "  <thead>\n",
       "    <tr style=\"text-align: right;\">\n",
       "      <th></th>\n",
       "      <th>exam1</th>\n",
       "      <th>exam2</th>\n",
       "      <th>exam3</th>\n",
       "      <th>final_grade</th>\n",
       "    </tr>\n",
       "  </thead>\n",
       "  <tbody>\n",
       "    <tr>\n",
       "      <th>1</th>\n",
       "      <td>100.0</td>\n",
       "      <td>90</td>\n",
       "      <td>95.0</td>\n",
       "      <td>96</td>\n",
       "    </tr>\n",
       "    <tr>\n",
       "      <th>2</th>\n",
       "      <td>98.0</td>\n",
       "      <td>93</td>\n",
       "      <td>96.0</td>\n",
       "      <td>95</td>\n",
       "    </tr>\n",
       "    <tr>\n",
       "      <th>3</th>\n",
       "      <td>85.0</td>\n",
       "      <td>83</td>\n",
       "      <td>87.0</td>\n",
       "      <td>87</td>\n",
       "    </tr>\n",
       "    <tr>\n",
       "      <th>4</th>\n",
       "      <td>83.0</td>\n",
       "      <td>80</td>\n",
       "      <td>86.0</td>\n",
       "      <td>85</td>\n",
       "    </tr>\n",
       "    <tr>\n",
       "      <th>5</th>\n",
       "      <td>93.0</td>\n",
       "      <td>90</td>\n",
       "      <td>96.0</td>\n",
       "      <td>97</td>\n",
       "    </tr>\n",
       "  </tbody>\n",
       "</table>\n",
       "</div>"
      ],
      "text/plain": [
       "   exam1  exam2  exam3  final_grade\n",
       "1  100.0     90   95.0           96\n",
       "2   98.0     93   96.0           95\n",
       "3   85.0     83   87.0           87\n",
       "4   83.0     80   86.0           85\n",
       "5   93.0     90   96.0           97"
      ]
     },
     "execution_count": 25,
     "metadata": {},
     "output_type": "execute_result"
    }
   ],
   "source": [
    "df.head()"
   ]
  },
  {
   "cell_type": "markdown",
   "id": "cea95c86",
   "metadata": {},
   "source": [
    "Now to find our Null values"
   ]
  },
  {
   "cell_type": "code",
   "execution_count": 26,
   "id": "903d6c82",
   "metadata": {},
   "outputs": [
    {
     "data": {
      "text/plain": [
       "exam1          1\n",
       "exam2          0\n",
       "exam3          1\n",
       "final_grade    0\n",
       "dtype: int64"
      ]
     },
     "execution_count": 26,
     "metadata": {},
     "output_type": "execute_result"
    }
   ],
   "source": [
    "df.isna().sum()"
   ]
  },
  {
   "cell_type": "code",
   "execution_count": 28,
   "id": "20671390",
   "metadata": {},
   "outputs": [
    {
     "data": {
      "text/plain": [
       "False    103\n",
       "True       1\n",
       "Name: exam1, dtype: int64"
      ]
     },
     "execution_count": 28,
     "metadata": {},
     "output_type": "execute_result"
    }
   ],
   "source": [
    "df['exam1'].isna().value_counts()"
   ]
  },
  {
   "cell_type": "code",
   "execution_count": 29,
   "id": "40a7659a",
   "metadata": {},
   "outputs": [
    {
     "data": {
      "text/plain": [
       "(102, 4)"
      ]
     },
     "execution_count": 29,
     "metadata": {},
     "output_type": "execute_result"
    }
   ],
   "source": [
    "df.dropna().shape"
   ]
  },
  {
   "cell_type": "code",
   "execution_count": 30,
   "id": "8366f960",
   "metadata": {},
   "outputs": [],
   "source": [
    "#It makes the most sense here to simply drop the null values because theres only 2 of them,\n",
    "# and trying to fill in a missing exam grade isnt a very safe bet.\n",
    "df = df.dropna()"
   ]
  },
  {
   "cell_type": "code",
   "execution_count": 31,
   "id": "d95ae5b5",
   "metadata": {},
   "outputs": [
    {
     "name": "stdout",
     "output_type": "stream",
     "text": [
      "<class 'pandas.core.frame.DataFrame'>\n",
      "Int64Index: 102 entries, 1 to 104\n",
      "Data columns (total 4 columns):\n",
      " #   Column       Non-Null Count  Dtype  \n",
      "---  ------       --------------  -----  \n",
      " 0   exam1        102 non-null    float64\n",
      " 1   exam2        102 non-null    int64  \n",
      " 2   exam3        102 non-null    float64\n",
      " 3   final_grade  102 non-null    int64  \n",
      "dtypes: float64(2), int64(2)\n",
      "memory usage: 4.0 KB\n"
     ]
    }
   ],
   "source": [
    "df.info()"
   ]
  },
  {
   "cell_type": "markdown",
   "id": "5637dcfe",
   "metadata": {},
   "source": [
    "Now our nulls are gone, lets fix dtype for exam"
   ]
  },
  {
   "cell_type": "code",
   "execution_count": 32,
   "id": "8de6e90e",
   "metadata": {},
   "outputs": [
    {
     "data": {
      "text/plain": [
       "True"
      ]
     },
     "execution_count": 32,
     "metadata": {},
     "output_type": "execute_result"
    }
   ],
   "source": [
    "#We can compare a float value to an int value \n",
    "100.0 == 100"
   ]
  },
  {
   "cell_type": "code",
   "execution_count": 35,
   "id": "fbc6984c",
   "metadata": {},
   "outputs": [],
   "source": [
    "df['exam1'] = df['exam1'].astype(int)\n",
    "df['exam3'] = df['exam3'].astype(int)"
   ]
  },
  {
   "cell_type": "code",
   "execution_count": 36,
   "id": "4a16d5b3",
   "metadata": {},
   "outputs": [
    {
     "name": "stdout",
     "output_type": "stream",
     "text": [
      "<class 'pandas.core.frame.DataFrame'>\n",
      "Int64Index: 102 entries, 1 to 104\n",
      "Data columns (total 4 columns):\n",
      " #   Column       Non-Null Count  Dtype\n",
      "---  ------       --------------  -----\n",
      " 0   exam1        102 non-null    int64\n",
      " 1   exam2        102 non-null    int64\n",
      " 2   exam3        102 non-null    int64\n",
      " 3   final_grade  102 non-null    int64\n",
      "dtypes: int64(4)\n",
      "memory usage: 4.0 KB\n"
     ]
    }
   ],
   "source": [
    "df.info()"
   ]
  },
  {
   "cell_type": "code",
   "execution_count": 37,
   "id": "cf747623",
   "metadata": {},
   "outputs": [],
   "source": [
    "def clean_student_grades(df):\n",
    "    '''\n",
    "    clean_student grades will take in a single pandas dataframe, \n",
    "    with the expected formatting observed in student_grades.\n",
    "    It will remove studebt_id column,\n",
    "    It will remove and records containing null values,\n",
    "    And it will cast any floats to integers\n",
    "    \n",
    "    Arguments: df. a pandas dataframe\n",
    "    return: df, a pandas dataframe (cleaned)\n",
    "    '''\n",
    "    #drop student_id column\n",
    "    df = df.drop(columns='student_id')\n",
    "    #drop nulls\n",
    "    df = df.dropna()\n",
    "    #convert to int: the whole df in 1 line instead of two lines to convert two columns\n",
    "    df = df.astype(int)\n",
    "    return df"
   ]
  },
  {
   "cell_type": "code",
   "execution_count": 38,
   "id": "16a6fd51",
   "metadata": {},
   "outputs": [],
   "source": [
    "from sklearn.model_selection import train_test_split"
   ]
  },
  {
   "cell_type": "code",
   "execution_count": 39,
   "id": "f2adc1d9",
   "metadata": {},
   "outputs": [],
   "source": [
    "def split_my_students(df):\n",
    "    '''\n",
    "    split_my_students will take in a single pandas df referencing a cleaned\n",
    "    version of student_grades, and will then split the data into train,\n",
    "    validate, and test sets\n",
    "    \n",
    "    Arguments: df. a pandas dataframe\n",
    "    return: train, validate, test: the pandas df split from orginal df \n",
    "    '''\n",
    "    train_val, test = train_test_split(df, random_state = 1349, train_size = 0.7)\n",
    "    train, validate = train_test_split(train_val, random_state = 1349, train_size = 0.8)\n",
    "    return train, validate, test"
   ]
  },
  {
   "cell_type": "code",
   "execution_count": 40,
   "id": "d4dabdff",
   "metadata": {},
   "outputs": [],
   "source": [
    "def wrangle_grades():\n",
    "    '''\n",
    "    wrangle_grades will go through the process of acquiring stufent grades data from \n",
    "    a local .csv, cleaning the data, then splitting into train, test, and validate\n",
    "    '''\n",
    "    return split_my_students(\n",
    "        clean_student_grades(\n",
    "            acquire_student_grades()))"
   ]
  },
  {
   "cell_type": "code",
   "execution_count": 41,
   "id": "ab7a5b46",
   "metadata": {},
   "outputs": [],
   "source": [
    "train, validate, test = wrangle_grades()"
   ]
  },
  {
   "cell_type": "code",
   "execution_count": 42,
   "id": "a60b90dc",
   "metadata": {},
   "outputs": [
    {
     "data": {
      "text/plain": [
       "((56, 4), (15, 4), (31, 4))"
      ]
     },
     "execution_count": 42,
     "metadata": {},
     "output_type": "execute_result"
    }
   ],
   "source": [
    "train.shape, validate.shape, test.shape"
   ]
  },
  {
   "cell_type": "code",
   "execution_count": 43,
   "id": "2ef231a0",
   "metadata": {},
   "outputs": [
    {
     "data": {
      "text/html": [
       "<div>\n",
       "<style scoped>\n",
       "    .dataframe tbody tr th:only-of-type {\n",
       "        vertical-align: middle;\n",
       "    }\n",
       "\n",
       "    .dataframe tbody tr th {\n",
       "        vertical-align: top;\n",
       "    }\n",
       "\n",
       "    .dataframe thead th {\n",
       "        text-align: right;\n",
       "    }\n",
       "</style>\n",
       "<table border=\"1\" class=\"dataframe\">\n",
       "  <thead>\n",
       "    <tr style=\"text-align: right;\">\n",
       "      <th></th>\n",
       "      <th>exam1</th>\n",
       "      <th>exam2</th>\n",
       "      <th>exam3</th>\n",
       "      <th>final_grade</th>\n",
       "    </tr>\n",
       "  </thead>\n",
       "  <tbody>\n",
       "    <tr>\n",
       "      <th>82</th>\n",
       "      <td>93</td>\n",
       "      <td>90</td>\n",
       "      <td>96</td>\n",
       "      <td>97</td>\n",
       "    </tr>\n",
       "    <tr>\n",
       "      <th>76</th>\n",
       "      <td>57</td>\n",
       "      <td>65</td>\n",
       "      <td>75</td>\n",
       "      <td>65</td>\n",
       "    </tr>\n",
       "    <tr>\n",
       "      <th>19</th>\n",
       "      <td>92</td>\n",
       "      <td>89</td>\n",
       "      <td>94</td>\n",
       "      <td>93</td>\n",
       "    </tr>\n",
       "    <tr>\n",
       "      <th>92</th>\n",
       "      <td>98</td>\n",
       "      <td>93</td>\n",
       "      <td>96</td>\n",
       "      <td>95</td>\n",
       "    </tr>\n",
       "    <tr>\n",
       "      <th>34</th>\n",
       "      <td>70</td>\n",
       "      <td>65</td>\n",
       "      <td>78</td>\n",
       "      <td>77</td>\n",
       "    </tr>\n",
       "  </tbody>\n",
       "</table>\n",
       "</div>"
      ],
      "text/plain": [
       "    exam1  exam2  exam3  final_grade\n",
       "82     93     90     96           97\n",
       "76     57     65     75           65\n",
       "19     92     89     94           93\n",
       "92     98     93     96           95\n",
       "34     70     65     78           77"
      ]
     },
     "execution_count": 43,
     "metadata": {},
     "output_type": "execute_result"
    }
   ],
   "source": [
    "train.head()"
   ]
  },
  {
   "cell_type": "markdown",
   "id": "c22ac422",
   "metadata": {},
   "source": [
    "Lets check out how normal things are:"
   ]
  },
  {
   "cell_type": "code",
   "execution_count": 44,
   "id": "95d2192e",
   "metadata": {},
   "outputs": [
    {
     "data": {
      "image/png": "[encoded data removed]",
      "text/plain": [
       "<Figure size 640x480 with 1 Axes>"
      ]
     },
     "metadata": {},
     "output_type": "display_data"
    },
    {
     "data": {
      "image/png": "[encoded data removed]",
      "text/plain": [
       "<Figure size 640x480 with 1 Axes>"
      ]
     },
     "metadata": {},
     "output_type": "display_data"
    },
    {
     "data": {
      "image/png": "[encoded data removed]",
      "text/plain": [
       "<Figure size 640x480 with 1 Axes>"
      ]
     },
     "metadata": {},
     "output_type": "display_data"
    },
    {
     "data": {
      "image/png": "[encoded data removed]",
      "text/plain": [
       "<Figure size 640x480 with 1 Axes>"
      ]
     },
     "metadata": {},
     "output_type": "display_data"
    }
   ],
   "source": [
    "for col in train:\n",
    "    train[col].hist()\n",
    "    plt.title(f'Distribution of {col}')\n",
    "    plt.show()"
   ]
  },
  {
   "cell_type": "markdown",
   "id": "d2c93cea",
   "metadata": {},
   "source": [
    "My data isnt super normal. \n",
    "\n",
    "Is this because the sample size is somewhat small?\n",
    "Is this because there are different types of students\n",
    "If so, how would i recognize them?\n",
    "Will this effect my modeing?"
   ]
  },
  {
   "cell_type": "code",
   "execution_count": null,
   "id": "73f91214",
   "metadata": {},
   "outputs": [],
   "source": []
  }
 ],
 "metadata": {
  "kernelspec": {
   "display_name": "Python 3 (ipykernel)",
   "language": "python",
   "name": "python3"
  },
  "language_info": {
   "codemirror_mode": {
    "name": "ipython",
    "version": 3
   },
   "file_extension": ".py",
   "mimetype": "text/x-python",
   "name": "python",
   "nbconvert_exporter": "python",
   "pygments_lexer": "ipython3",
   "version": "3.9.13"
  }
 },
 "nbformat": 4,
 "nbformat_minor": 5
}
